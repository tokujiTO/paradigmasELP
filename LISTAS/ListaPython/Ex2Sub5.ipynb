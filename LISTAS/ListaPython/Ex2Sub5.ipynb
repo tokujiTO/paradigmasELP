{
 "cells": [
  {
   "cell_type": "markdown",
   "id": "65f1b1ce-2903-44cd-922c-797622d35560",
   "metadata": {},
   "source": [
    "|                     | Previsto Positivo (PP) | Previsto Negativo (PN) |\n",
    "|---------------------|-----------------------|-----------------------|\n",
    "| **Real Positivo (RP)** | 50 (TP)               | 20 (FN)               |\n",
    "| **Real Negativo (RN)** | 10 (FP)               | 120 (TN)              |"
   ]
  },
  {
   "cell_type": "markdown",
   "id": "7f100254-ae0f-4d36-b48d-09b543bda331",
   "metadata": {},
   "source": [
    "Acurácia $= (TP + TN) / (TP + FP + FN + TN)\n",
    "          = (50 + 120) / (50 + 10 + 20 + 120)\n",
    "          = 170 / 200\n",
    "          =$ 0,85 ou 85%"
   ]
  },
  {
   "cell_type": "markdown",
   "id": "d928514b-0ca2-440f-a712-340a065bfeff",
   "metadata": {},
   "source": [
    "Precisão $= TP / (TP + FP)\n",
    "         = 50 / (50 + 10)\n",
    "         = 50 / 60\n",
    "         ≈$ 0,8333 ou 83,33%"
   ]
  },
  {
   "cell_type": "markdown",
   "id": "5f4a32cd-4275-4f26-a15b-864d0ba1ee9b",
   "metadata": {},
   "source": [
    "Recall $= TP / (TP + FN)\n",
    "       = 50 / (50 + 20)\n",
    "       = 50 / 70\n",
    "       ≈$ 0,7143 ou 71,43%"
   ]
  },
  {
   "cell_type": "markdown",
   "id": "dc47cc25-7b2e-47ec-9ce4-7a9c2ed4ffda",
   "metadata": {},
   "source": [
    "F1-Score $= 2 * (Precisão * Recall) / (Precisão + Recall)\n",
    "         = 2 * (0,8333 * 0,7143) / (0,8333 + 0,7143)\n",
    "         = 2 * 0,5952 / 1,5476\n",
    "         ≈ 1,1904 / 1,5476\n",
    "         ≈$ 0,7692 ou 76,92%"
   ]
  },
  {
   "cell_type": "markdown",
   "id": "a1747578-8b7f-4977-827b-d9a0dbcfb6c2",
   "metadata": {},
   "source": [
    "Acurácia: 85%\n",
    "\n",
    "Precisão: 83,33%\n",
    "\n",
    "Recall: 71,43%\n",
    "\n",
    "F1-Score: 76,92%"
   ]
  },
  {
   "cell_type": "code",
   "execution_count": 12,
   "id": "ac105628-f356-442b-9f9a-72ad6c7061ad",
   "metadata": {},
   "outputs": [
    {
     "name": "stdout",
     "output_type": "stream",
     "text": [
      "Caminho percorrido: 1 → 3 → 1 → 1 → 1\n",
      "Custo mínimo: 7\n"
     ]
    }
   ],
   "source": [
    "def caminho_minimo(matriz):\n",
    "    if not matriz or not matriz[0]:\n",
    "        return 0\n",
    "    \n",
    "    n = len(matriz)\n",
    "    m = len(matriz[0])\n",
    "    \n",
    "    dp = [[0 for _ in range(m)] for _ in range(n)]\n",
    "    \n",
    "    dp[0][0] = matriz[0][0]\n",
    "    \n",
    "    for j in range(1, m):\n",
    "        dp[0][j] = dp[0][j-1] + matriz[0][j]\n",
    "    \n",
    "    for i in range(1, n):\n",
    "        dp[i][0] = dp[i-1][0] + matriz[i][0]\n",
    "\n",
    "    for i in range(1, n):\n",
    "        for j in range(1, m):\n",
    "            dp[i][j] = matriz[i][j] + min(dp[i-1][j], dp[i][j-1])\n",
    "    \n",
    "    # Reconstruir o caminho\n",
    "    caminho = []\n",
    "    i, j = n - 1, m - 1\n",
    "    while i > 0 or j > 0:\n",
    "        caminho.append(matriz[i][j])\n",
    "        if i == 0:\n",
    "            j -= 1\n",
    "        elif j == 0:\n",
    "            i -= 1\n",
    "        elif dp[i-1][j] < dp[i][j-1]:\n",
    "            i -= 1\n",
    "        else:\n",
    "            j -= 1\n",
    "    caminho.append(matriz[0][0])\n",
    "    caminho.reverse()\n",
    "    print(\"Caminho percorrido:\", \" → \".join(map(str, caminho)))\n",
    "    \n",
    "    return dp[n-1][m-1]\n",
    "\n",
    "matriz = [\n",
    "    [1, 3, 1],\n",
    "    [1, 5, 1],\n",
    "    [4, 2, 1]\n",
    "]\n",
    "print(\"Custo mínimo:\", caminho_minimo(matriz))"
   ]
  },
  {
   "cell_type": "code",
   "execution_count": null,
   "id": "66f184ea",
   "metadata": {},
   "outputs": [],
   "source": []
  },
  {
   "cell_type": "code",
   "execution_count": null,
   "id": "d85c0d35",
   "metadata": {},
   "outputs": [],
   "source": []
  }
 ],
 "metadata": {
  "kernelspec": {
   "display_name": "Python 3",
   "language": "python",
   "name": "python3"
  },
  "language_info": {
   "codemirror_mode": {
    "name": "ipython",
    "version": 3
   },
   "file_extension": ".py",
   "mimetype": "text/x-python",
   "name": "python",
   "nbconvert_exporter": "python",
   "pygments_lexer": "ipython3",
   "version": "3.9.6"
  }
 },
 "nbformat": 4,
 "nbformat_minor": 5
}
